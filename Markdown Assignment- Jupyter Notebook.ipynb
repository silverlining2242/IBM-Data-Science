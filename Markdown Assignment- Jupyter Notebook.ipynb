{
    "cells": [
        {
            "metadata": {
                "collapsed": true
            },
            "cell_type": "markdown",
            "source": "# My Jupyter Notebook on IBM Data Science Experience"
        },
        {
            "metadata": {},
            "cell_type": "markdown",
            "source": "**Ting Ting Yang**  \nMy desired occupation is Business Analysis in consulting firm"
        },
        {
            "metadata": {},
            "cell_type": "markdown",
            "source": "_I am interested in Data Science because nowadays almost all business analysis requires the ability to clean, process, analyze data, and data visualization as well._"
        },
        {
            "metadata": {},
            "cell_type": "markdown",
            "source": "<h3>Mathematics Multiplication Nine</h3>"
        },
        {
            "metadata": {},
            "cell_type": "code",
            "source": "for i in range(1, 10):\n    for j in range(1, 10):\n        print(\"%d*%d=%2d\" % (i, j, i * j), end=\" \")\n \n    print(\"\")",
            "execution_count": 6,
            "outputs": [
                {
                    "output_type": "stream",
                    "text": "1*1= 1 1*2= 2 1*3= 3 1*4= 4 1*5= 5 1*6= 6 1*7= 7 1*8= 8 1*9= 9 \n2*1= 2 2*2= 4 2*3= 6 2*4= 8 2*5=10 2*6=12 2*7=14 2*8=16 2*9=18 \n3*1= 3 3*2= 6 3*3= 9 3*4=12 3*5=15 3*6=18 3*7=21 3*8=24 3*9=27 \n4*1= 4 4*2= 8 4*3=12 4*4=16 4*5=20 4*6=24 4*7=28 4*8=32 4*9=36 \n5*1= 5 5*2=10 5*3=15 5*4=20 5*5=25 5*6=30 5*7=35 5*8=40 5*9=45 \n6*1= 6 6*2=12 6*3=18 6*4=24 6*5=30 6*6=36 6*7=42 6*8=48 6*9=54 \n7*1= 7 7*2=14 7*3=21 7*4=28 7*5=35 7*6=42 7*7=49 7*8=56 7*9=63 \n8*1= 8 8*2=16 8*3=24 8*4=32 8*5=40 8*6=48 8*7=56 8*8=64 8*9=72 \n9*1= 9 9*2=18 9*3=27 9*4=36 9*5=45 9*6=54 9*7=63 9*8=72 9*9=81 \n",
                    "name": "stdout"
                }
            ]
        },
        {
            "metadata": {},
            "cell_type": "markdown",
            "source": "<h3>List of Markdown style</h3>\n\n---\n\n1. Heading\n\n<h4 style=\"color:rgb(183,90,167);\">Markdown Pracrice</h4>\n<p style=\"background-color:rgb(195,209,230); border:2px solid green;\"> with color html syntax</p>\n\n2. Horizontal rule\n---\n\n3. List  \n   example as follows  \n    * bullet points\n    * bullet points\n\n4. Tables\n\n    \n|Language  |function  | syntax|\n|----------|----------|-------|\n|html      |font color|color:rgb(255,255,255)|\n|html      |background|background-color:green|\n\n5. Hyperlinks\n\n<a href=\"https://www.w3schools.com/html/html_colors.asp\">link about html stlye</a>\n\n6. Images\n<img src=\"http://img.technews.tw/wp-content/uploads/2016/05/A-New-Look-for-Instagram_1-624x455.jpg\" height=\"200px\" width=\"100px\"  >\n\n7. Code/Syntax hightlighting\ntake the cell 6 codes for example\n\n```python\nfor i in range(1, 10):\n    for j in range(1, 10):\n        print(\"%d*%d=%2d\" % (i, j, i * j), end=\" \")\n \n    print(\"\")\n\n```\n\n8. blocked quotes\n\n> Every cloud has a silver lining.\n\n9. strikethrough\n\n~~cross out text~~\n\n"
        },
        {
            "metadata": {},
            "cell_type": "code",
            "source": "",
            "execution_count": null,
            "outputs": []
        }
    ],
    "metadata": {
        "kernelspec": {
            "name": "python36",
            "display_name": "Python 3.6 with Spark",
            "language": "python3"
        },
        "language_info": {
            "mimetype": "text/x-python",
            "nbconvert_exporter": "python",
            "name": "python",
            "pygments_lexer": "ipython3",
            "version": "3.6.8",
            "file_extension": ".py",
            "codemirror_mode": {
                "version": 3,
                "name": "ipython"
            }
        }
    },
    "nbformat": 4,
    "nbformat_minor": 1
}